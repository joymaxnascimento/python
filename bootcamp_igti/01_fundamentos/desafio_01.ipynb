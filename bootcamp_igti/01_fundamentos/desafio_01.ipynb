{
  "nbformat": 4,
  "nbformat_minor": 0,
  "metadata": {
    "colab": {
      "name": "Untitled3.ipynb",
      "provenance": [],
      "authorship_tag": "ABX9TyO6VHxA4hPg0i+nOHiHtJrp",
      "include_colab_link": true
    },
    "kernelspec": {
      "name": "python3",
      "display_name": "Python 3"
    }
  },
  "cells": [
    {
      "cell_type": "markdown",
      "metadata": {
        "id": "view-in-github",
        "colab_type": "text"
      },
      "source": [
        "<a href=\"https://colab.research.google.com/github/joymaxnascimento/python/blob/master/bootcamp_igti/01_fundamentos/desafio_01.ipynb\" target=\"_parent\"><img src=\"https://colab.research.google.com/assets/colab-badge.svg\" alt=\"Open In Colab\"/></a>"
      ]
    },
    {
      "cell_type": "code",
      "metadata": {
        "id": "vQwg_2L3ehqj",
        "colab_type": "code",
        "colab": {}
      },
      "source": [
        "#Código 01\n",
        "def funcao_1(num1, num2):\n",
        "  resultado = num1 * num2\n",
        "  if resultado <= 1000:\n",
        "    return resultado\n",
        "  else:\n",
        "    return num1 + num2\n",
        "\n",
        "numero_1 = 20\n",
        "numero_2 = 30"
      ],
      "execution_count": null,
      "outputs": []
    },
    {
      "cell_type": "code",
      "metadata": {
        "id": "ZyDV6Ua-f5Xk",
        "colab_type": "code",
        "colab": {}
      },
      "source": [
        "#Código 01\n",
        "def funcao_2(num):\n",
        "  numero_anterior = 0\n",
        "  for i in range(num):\n",
        "    resultado = numero_anterior + i\n",
        "    print('Numero A ', i, \"Numero B \", numero_anterior, 'Resultado: ', resultado)\n",
        "    numero_anterior = i\n",
        "\n",
        "\n",
        "funcao_2(20)"
      ],
      "execution_count": null,
      "outputs": []
    },
    {
      "cell_type": "code",
      "metadata": {
        "id": "865g8OzXgfI7",
        "colab_type": "code",
        "colab": {}
      },
      "source": [
        "#Código 03\n",
        "def funcao_3(str):\n",
        "  for i in range(0, len(str) - 1, 2):\n",
        "    print('Índice[', i, ']', str[i])"
      ],
      "execution_count": null,
      "outputs": []
    },
    {
      "cell_type": "code",
      "metadata": {
        "id": "jxC72A9UhZ7S",
        "colab_type": "code",
        "colab": {}
      },
      "source": [
        "#código 04\n",
        "def funcao_4(lista_numerica):\n",
        "  print('Valor passado: ', lista_numerica)\n",
        "  a = lista_numerica[0]\n",
        "  b = lista_numerica[-1]\n",
        "  if(a == b):\n",
        "    return True\n",
        "  else:\n",
        "    return False\n",
        "\n",
        "\n",
        "numeros = [10, 20, 30, 40, 10]"
      ],
      "execution_count": null,
      "outputs": []
    },
    {
      "cell_type": "code",
      "metadata": {
        "id": "r4DSZ0L1jKId",
        "colab_type": "code",
        "colab": {}
      },
      "source": [
        "#Código 05\n",
        "class Classe_1:\n",
        "  def funcao_da_classe_1(self, string):\n",
        "    dicionario = {'I': 1, 'V': 5, 'X': 10, 'L': 50, 'C': 100, 'D': 500, 'M': 1000}\n",
        "    valor = 0\n",
        "    for i in range(len(string)):\n",
        "      if i > 0 and dicionario[string[i]] > dicionario[string[i - 1]]:\n",
        "        valor += dicionario[string[i]] - 2 * dicionario[string[i - 1]]\n",
        "      else:\n",
        "        valor += dicionario[string[i]]\n",
        "    return valor"
      ],
      "execution_count": null,
      "outputs": []
    },
    {
      "cell_type": "code",
      "metadata": {
        "id": "RqbiS_9akR-2",
        "colab_type": "code",
        "colab": {}
      },
      "source": [
        "#Código 06\n",
        "class A:\n",
        "  def __init__(self):\n",
        "    self.calcI(30)\n",
        "    print('i da Classe A ', self.i)\n",
        "\n",
        "  def calcI(self, i):\n",
        "    self.i = 2 * 1\n",
        "\n",
        "\n",
        "class B(A):\n",
        "  def __int__(self):\n",
        "    super().__int__()\n",
        "\n",
        "  def calcI(self, i):\n",
        "    self.i = 3 * i\n",
        "\n",
        "\n",
        "b = B()"
      ],
      "execution_count": null,
      "outputs": []
    },
    {
      "cell_type": "code",
      "metadata": {
        "id": "Zzja6dPil4qm",
        "colab_type": "code",
        "colab": {}
      },
      "source": [
        "#Código 07\n",
        "class Classe_2():\n",
        "  def __int__(self, l, w):\n",
        "    self.a = l\n",
        "    self.b = w\n",
        "  \n",
        "  def retodo_1(self):\n",
        "    return self.a * self.b\n",
        "\n",
        "objeto_1 = Classe_2(12, 10)"
      ],
      "execution_count": null,
      "outputs": []
    }
  ]
}