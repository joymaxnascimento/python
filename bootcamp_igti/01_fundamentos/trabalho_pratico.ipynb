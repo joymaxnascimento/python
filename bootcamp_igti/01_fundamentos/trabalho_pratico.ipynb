{
  "nbformat": 4,
  "nbformat_minor": 0,
  "metadata": {
    "colab": {
      "name": "Untitled1.ipynb",
      "provenance": [],
      "authorship_tag": "ABX9TyPNvG7M6R99NhEqvtoPJBGv",
      "include_colab_link": true
    },
    "kernelspec": {
      "name": "python3",
      "display_name": "Python 3"
    }
  },
  "cells": [
    {
      "cell_type": "markdown",
      "metadata": {
        "id": "view-in-github",
        "colab_type": "text"
      },
      "source": [
        "<a href=\"https://colab.research.google.com/github/joymaxnascimento/python/blob/master/bootcamp_igti/01_fundamentos/trabalho_pratico.ipynb\" target=\"_parent\"><img src=\"https://colab.research.google.com/assets/colab-badge.svg\" alt=\"Open In Colab\"/></a>"
      ]
    },
    {
      "cell_type": "code",
      "metadata": {
        "id": "nZUoG3sHV22X",
        "colab_type": "code",
        "colab": {
          "base_uri": "https://localhost:8080/",
          "height": 51
        },
        "outputId": "1736b42b-1abf-4c24-a128-1e2adc0f7226"
      },
      "source": [
        "idade = int(input('Entre com a sua idade:'))\n",
        "nova_idade = idade + 1\n",
        "print(f'No próximo ano você terá: {nova_idade} anos')"
      ],
      "execution_count": 1,
      "outputs": [
        {
          "output_type": "stream",
          "text": [
            "Entre com a sua idade:30\n",
            "No próximo ano você terá: 31 anos\n"
          ],
          "name": "stdout"
        }
      ]
    },
    {
      "cell_type": "code",
      "metadata": {
        "id": "gpBIL5zxXlIf",
        "colab_type": "code",
        "colab": {
          "base_uri": "https://localhost:8080/",
          "height": 34
        },
        "outputId": "39c4069f-7dd3-4ada-d76e-853ff0737597"
      },
      "source": [
        "lado_a = 35\n",
        "lado_b = 14.33333\n",
        "area_do_retangulo = lado_a * lado_b\n",
        "print('O retângulo de lado A = %d e lado B = %.2f é %.3f'%(lado_a, lado_b, area_do_retangulo))"
      ],
      "execution_count": 2,
      "outputs": [
        {
          "output_type": "stream",
          "text": [
            "O retângulo de lado A = 35 e lado B = 14.33 é 501.667\n"
          ],
          "name": "stdout"
        }
      ]
    },
    {
      "cell_type": "code",
      "metadata": {
        "id": "HYVHxCquYL_Z",
        "colab_type": "code",
        "colab": {
          "base_uri": "https://localhost:8080/",
          "height": 34
        },
        "outputId": "8d8e9f00-f645-4c74-bd5b-56d377ba53ac"
      },
      "source": [
        "lista_1 = [1, 2, 'IGTI']\n",
        "lista_2 = [2, 3, 'Bootcamp']\n",
        "lista_3 = lista_1 + lista_2\n",
        "print(lista_3)"
      ],
      "execution_count": 3,
      "outputs": [
        {
          "output_type": "stream",
          "text": [
            "[1, 2, 'IGTI', 2, 3, 'Bootcamp']\n"
          ],
          "name": "stdout"
        }
      ]
    },
    {
      "cell_type": "code",
      "metadata": {
        "id": "vGzKaw1ZYdYA",
        "colab_type": "code",
        "colab": {
          "base_uri": "https://localhost:8080/",
          "height": 68
        },
        "outputId": "9f335a78-a7fb-4fda-e660-331ba98867d0"
      },
      "source": [
        "chute = int(input('Entre com um valor inteiro de 0 a 30: '))\n",
        "adivinhacao = [5, 6, 10, 14, 16, 20, 30]\n",
        "if chute in adivinhacao:\n",
        "  print('Você acertou um dos números que eu estava pensando.')\n",
        "  if chute > 15:\n",
        "    print('Esse número é maior que 20.')\n",
        "  if chute < 20:\n",
        "    print('Esse número é menor do que 20.')\n",
        "  print('Você é fera.')\n",
        "else:\n",
        "  print('Que pena, você errou. Pode tentar outra vez.')\n",
        "print('Obrigado por participar.')"
      ],
      "execution_count": 12,
      "outputs": [
        {
          "output_type": "stream",
          "text": [
            "Entre com um valor inteiro de 0 a 30: 17\n",
            "Que pena, você errou. Pode tentar outra vez.\n",
            "Obrigado por participar.\n"
          ],
          "name": "stdout"
        }
      ]
    },
    {
      "cell_type": "code",
      "metadata": {
        "id": "u0nCq2FbaqLe",
        "colab_type": "code",
        "colab": {
          "base_uri": "https://localhost:8080/",
          "height": 51
        },
        "outputId": "46b94caa-375f-4f41-d399-2600b6245915"
      },
      "source": [
        "frutas = ['maçã', 'banana', 'uva', 'goiaba']\n",
        "for x in frutas:\n",
        "  if x == 'uva':\n",
        "    break\n",
        "  print(x)"
      ],
      "execution_count": 13,
      "outputs": [
        {
          "output_type": "stream",
          "text": [
            "maçã\n",
            "banana\n"
          ],
          "name": "stdout"
        }
      ]
    },
    {
      "cell_type": "code",
      "metadata": {
        "id": "-fYSZ1o8bAAO",
        "colab_type": "code",
        "colab": {
          "base_uri": "https://localhost:8080/",
          "height": 120
        },
        "outputId": "9a565b2c-a45f-4f4d-d337-9395de3fe6a4"
      },
      "source": [
        "n = 5\n",
        "while n >= 0:\n",
        "  n -= 1\n",
        "  print(n)"
      ],
      "execution_count": 15,
      "outputs": [
        {
          "output_type": "stream",
          "text": [
            "4\n",
            "3\n",
            "2\n",
            "1\n",
            "0\n",
            "-1\n"
          ],
          "name": "stdout"
        }
      ]
    }
  ]
}