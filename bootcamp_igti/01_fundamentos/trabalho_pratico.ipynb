{
  "nbformat": 4,
  "nbformat_minor": 0,
  "metadata": {
    "colab": {
      "name": "Untitled1.ipynb",
      "provenance": [],
      "authorship_tag": "ABX9TyPpo3gFeygVrqndKHb6dVCu",
      "include_colab_link": true
    },
    "kernelspec": {
      "name": "python3",
      "display_name": "Python 3"
    }
  },
  "cells": [
    {
      "cell_type": "markdown",
      "metadata": {
        "id": "view-in-github",
        "colab_type": "text"
      },
      "source": [
        "<a href=\"https://colab.research.google.com/github/joymaxnascimento/python/blob/master/bootcamp_igti/01_fundamentos/trabalho_pratico.ipynb\" target=\"_parent\"><img src=\"https://colab.research.google.com/assets/colab-badge.svg\" alt=\"Open In Colab\"/></a>"
      ]
    },
    {
      "cell_type": "code",
      "metadata": {
        "id": "nZUoG3sHV22X",
        "colab_type": "code",
        "colab": {}
      },
      "source": [
        "#Código - 01\n",
        "idade = int(input('Entre com a sua idade:'))\n",
        "nova_idade = idade + 1\n",
        "print(f'No próximo ano você terá: {nova_idade} anos')"
      ],
      "execution_count": null,
      "outputs": []
    },
    {
      "cell_type": "code",
      "metadata": {
        "id": "gpBIL5zxXlIf",
        "colab_type": "code",
        "colab": {}
      },
      "source": [
        "#Código - 02\n",
        "lado_a = 35\n",
        "lado_b = 14.33333\n",
        "area_do_retangulo = lado_a * lado_b\n",
        "print('O retângulo de lado A = %d e lado B = %.2f é %.3f'%(lado_a, lado_b, area_do_retangulo))"
      ],
      "execution_count": null,
      "outputs": []
    },
    {
      "cell_type": "code",
      "metadata": {
        "id": "HYVHxCquYL_Z",
        "colab_type": "code",
        "colab": {}
      },
      "source": [
        "#Código - 03\n",
        "lista_1 = [1, 2, 'IGTI']\n",
        "lista_2 = [2, 3, 'Bootcamp']\n",
        "lista_3 = lista_1 + lista_2\n",
        "print(lista_3)"
      ],
      "execution_count": null,
      "outputs": []
    },
    {
      "cell_type": "code",
      "metadata": {
        "id": "vGzKaw1ZYdYA",
        "colab_type": "code",
        "colab": {}
      },
      "source": [
        "#Código - 04\n",
        "chute = int(input('Entre com um valor inteiro de 0 a 30: '))\n",
        "adivinhacao = [5, 6, 10, 14, 16, 20, 30]\n",
        "if chute in adivinhacao:\n",
        "  print('Você acertou um dos números que eu estava pensando.')\n",
        "  if chute > 15:\n",
        "    print('Esse número é maior que 20.')\n",
        "  if chute < 20:\n",
        "    print('Esse número é menor do que 20.')\n",
        "  print('Você é fera.')\n",
        "else:\n",
        "  print('Que pena, você errou. Pode tentar outra vez.')\n",
        "print('Obrigado por participar.')"
      ],
      "execution_count": null,
      "outputs": []
    },
    {
      "cell_type": "code",
      "metadata": {
        "id": "u0nCq2FbaqLe",
        "colab_type": "code",
        "colab": {}
      },
      "source": [
        "#Código - 05\n",
        "frutas = ['maçã', 'banana', 'uva', 'goiaba']\n",
        "for x in frutas:\n",
        "  if x == 'uva':\n",
        "    break\n",
        "  print(x)"
      ],
      "execution_count": null,
      "outputs": []
    },
    {
      "cell_type": "code",
      "metadata": {
        "id": "-fYSZ1o8bAAO",
        "colab_type": "code",
        "colab": {}
      },
      "source": [
        "#Código - 06\n",
        "n = 5\n",
        "while n > 0:\n",
        "  n -= 1\n",
        "  print(n)"
      ],
      "execution_count": null,
      "outputs": []
    }
  ]
}