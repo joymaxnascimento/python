{
 "cells": [
  {
   "cell_type": "markdown",
   "metadata": {
    "colab_type": "text",
    "id": "OO-TE-7FYlAt"
   },
   "source": [
    "# **Aula Interativa 2**\n",
    "\n",
    "- Bootcamp IGTI\n",
    "  - Desenvolvedor Python\n",
    "  - Módulo 2: Análise de dados\n",
    "- [Prof. Matheus Mendonça](https://www.linkedin.com/in/matheusmendonca/)"
   ]
  },
  {
   "cell_type": "markdown",
   "metadata": {
    "colab_type": "text",
    "id": "KUkVb4m1ZW4d"
   },
   "source": [
    "## **Análise de tendências de locações de bicicletas**\n",
    "\n",
    "### **Descrição do problema**\n",
    "\n",
    "O uso de bicicletas como um meio de transporte ganhou muita força nos últimos anos, seja por questões ambientais, de saúde ou até mesmo infraestrutura de trânsito. Para incentivar o uso de bicicletas, cidades em todo o mundo têm implementado programas de compartilhamento de bicicleta. Nesses sistemas, as bicicletas são retiradas e devolvidas em quiosques automatizados espalhados em diversos pontos da cidade.\n",
    "\n",
    "As plataformas de compartilhamento de bicicletas costumam coletar diversos tipos de dados, entre eles: duração da viagem, localização inicial e final do percurso, entre outros. Esses dados coletados pela plataforma, em conjunto com informações sobre o clima, trânsito e relevo, por exemplo, torna possível uma análise mais robusta de compartilhamento de bicicletas.\n",
    "\n",
    "A seguir, um descritivo dos dados coletados:\n",
    "\n",
    "- rec_id: índice do registro;\n",
    "- datetime : data\n",
    "- season : estação do ano (1: inverno, 2: primevera, 3: verão, 4: outono);\n",
    "- year : ano (0: 2011, 1:2012);\n",
    "- month : mês (1 a 12);\n",
    "- hour : hora do dia (0 a 23)\n",
    "- is_holiday : booleano indicando feriado;\n",
    "- weekday : dia da semana (0: domingo, ..., 6: sábado);\n",
    "- is_workingday : booleano indicando dia útil;\n",
    "- weather_condition: (1: limpo, 2: nublado, 3: chuva leve, 4: chuva forte);\n",
    "- temp : Temperatura escalada entre 0 e 1. Valor original em graus Celsius: -8 a 39;\n",
    "- atemp: Sensação térmica escalada entre 0 e 1. Valor original em graus Celsius: -16 a 50;\n",
    "- humidity: Humidade relativa (0 a 1)\n",
    "- windspeed: Velocidade do vento escalada entre 0 e 1 (máximo original: 67).\n",
    "- casual: usuários casuais;\n",
    "- registered: usuários registrados;\n",
    "- total_count: contador total de alugueis (casual+registered).\n"
   ]
  },
  {
   "cell_type": "markdown",
   "metadata": {
    "colab_type": "text",
    "id": "nDRPq1X5aydO"
   },
   "source": [
    "### **Análise exploratória**"
   ]
  },
  {
   "cell_type": "code",
   "execution_count": null,
   "metadata": {
    "colab": {},
    "colab_type": "code",
    "id": "SuSfLNQBWod1"
   },
   "outputs": [],
   "source": [
    "# carregandos as bibliotecas básicas\n",
    "import numpy as np\n",
    "import pandas as pd\n",
    "\n",
    "# bibliotecas para plots\n",
    "import seaborn as sns\n",
    "import matplotlib.pyplot as plt\n",
    "from matplotlib import rcParams\n",
    "rcParams['figure.figsize'] = (16, 6)"
   ]
  },
  {
   "cell_type": "markdown",
   "metadata": {
    "colab_type": "text",
    "id": "TKqVgPuoeDFI"
   },
   "source": [
    "#### Leitura dos dados"
   ]
  },
  {
   "cell_type": "code",
   "execution_count": null,
   "metadata": {
    "colab": {
     "base_uri": "https://localhost:8080/",
     "height": 309
    },
    "colab_type": "code",
    "id": "GrR1VM42YSu9",
    "outputId": "70eecf8a-8c72-4f81-8cc1-347626fbb929"
   },
   "outputs": [],
   "source": [
    "# leitura do dataset\n",
    "df = pd.read_csv(\"https://pycourse.s3.amazonaws.com/bike-sharing.csv\")\n",
    "df.head()"
   ]
  },
  {
   "cell_type": "code",
   "execution_count": null,
   "metadata": {
    "colab": {
     "base_uri": "https://localhost:8080/",
     "height": 449
    },
    "colab_type": "code",
    "id": "zewFiSTNc7MX",
    "outputId": "8f1036e2-f9ea-4d47-fd58-df5cd00916f7"
   },
   "outputs": [],
   "source": [
    "# info básicas\n",
    "df.info()"
   ]
  },
  {
   "cell_type": "markdown",
   "metadata": {
    "colab_type": "text",
    "id": "_MNFJ8eceGCT"
   },
   "source": [
    "#### Pré-processamento"
   ]
  },
  {
   "cell_type": "code",
   "execution_count": null,
   "metadata": {
    "colab": {},
    "colab_type": "code",
    "id": "4UfjADTObl1K"
   },
   "outputs": [],
   "source": [
    "# date time conversion\n",
    "df['datetime'] = pd.to_datetime(df['datetime'])\n",
    "\n",
    "# categorical variables\n",
    "df['season'] = df['season'].astype('int')\n",
    "df['is_holiday'] = df['is_holiday'].astype('int')\n",
    "df['weekday'] = df['weekday'].astype('int')\n",
    "df['weather_condition'] = df['weather_condition'].astype('int')\n",
    "df['is_workingday'] = df['is_workingday'].astype('int')\n",
    "df['month'] = df['month'].astype('int')\n",
    "df['year'] = df['year'].astype('int')\n",
    "df['hour'] = df['hour'].astype('int')"
   ]
  },
  {
   "cell_type": "markdown",
   "metadata": {
    "colab_type": "text",
    "id": "wZyIZdxGeJde"
   },
   "source": [
    "#### Visualizações"
   ]
  },
  {
   "cell_type": "code",
   "execution_count": null,
   "metadata": {
    "colab": {
     "base_uri": "https://localhost:8080/",
     "height": 375
    },
    "colab_type": "code",
    "id": "edFtwKTRbzHn",
    "outputId": "dca2cdd2-4203-4006-be28-7d4c72d42b09"
   },
   "outputs": [],
   "source": [
    "# plot inicial\n",
    "df.plot(x='datetime', y='total_count');"
   ]
  },
  {
   "cell_type": "code",
   "execution_count": null,
   "metadata": {
    "colab": {
     "base_uri": "https://localhost:8080/",
     "height": 621
    },
    "colab_type": "code",
    "id": "yf7aPdFNcr5Z",
    "outputId": "edcd5cc2-a089-48da-8860-97258712da0a"
   },
   "outputs": [],
   "source": [
    "# tendências horárias\n",
    "fig, ax = plt.subplots(nrows=2, sharex=True, figsize=(16, 10))\n",
    "\n",
    "sns.pointplot(data=df, x='hour', y='total_count', hue='season', ax=ax[0])\n",
    "ax[0].set_title(\"Locações horáras de bicicletas por estação do ano\")\n",
    "ax[0].grid()\n",
    "\n",
    "sns.pointplot(data=df, x='hour', y='total_count', hue='weekday', ax=ax[1])\n",
    "ax[1].set_title(\"Locações horárias de bicicletas por dia da semana\")\n",
    "ax[1].grid();"
   ]
  },
  {
   "cell_type": "code",
   "execution_count": null,
   "metadata": {
    "colab": {
     "base_uri": "https://localhost:8080/",
     "height": 404
    },
    "colab_type": "code",
    "id": "27nUutsGcMV0",
    "outputId": "8f7e5bac-d533-409e-9766-267a38994e54"
   },
   "outputs": [],
   "source": [
    "# distribuição por mês\n",
    "fig, ax = plt.subplots()\n",
    "sns.barplot(data=df, x=\"month\", y=\"total_count\")\n",
    "ax.set_title(\"Distribuição mensal de locações\");"
   ]
  },
  {
   "cell_type": "code",
   "execution_count": null,
   "metadata": {
    "colab": {
     "base_uri": "https://localhost:8080/",
     "height": 404
    },
    "colab_type": "code",
    "id": "Qk7Gsk95fPPX",
    "outputId": "09373104-a1c4-4d99-a4ee-1090cec3578a"
   },
   "outputs": [],
   "source": [
    "# distribuição por estação do ano\n",
    "fig, ax = plt.subplots()\n",
    "sns.barplot(data=df, x=\"season\", y=\"total_count\")\n",
    "ax.set_title(\"Distribuição por estação do ano\");"
   ]
  },
  {
   "cell_type": "code",
   "execution_count": null,
   "metadata": {
    "colab": {
     "base_uri": "https://localhost:8080/",
     "height": 404
    },
    "colab_type": "code",
    "id": "yYdSlll8kj5J",
    "outputId": "ad2eaa6f-cafd-4758-bc18-dc5c71eeef83"
   },
   "outputs": [],
   "source": [
    "# distribuição por ano\n",
    "fig, ax = plt.subplots()\n",
    "sns.barplot(data=df, x=\"year\", y=\"total_count\", estimator=sum, ci=None)\n",
    "ax.set_title(\"Locações por ano\");"
   ]
  },
  {
   "cell_type": "code",
   "execution_count": null,
   "metadata": {
    "colab": {
     "base_uri": "https://localhost:8080/",
     "height": 375
    },
    "colab_type": "code",
    "id": "3c2uhBZahf7X",
    "outputId": "51cd55f3-8839-4777-a7aa-822852ee2cff"
   },
   "outputs": [],
   "source": [
    "# outliers\n",
    "fig, ax = plt.subplots(ncols=2)\n",
    "sns.boxplot(data=df[['total_count', 'casual', 'registered']], ax=ax[0])\n",
    "sns.boxplot(data=df[['temp', 'windspeed', 'humidity']], ax=ax[1]);"
   ]
  },
  {
   "cell_type": "code",
   "execution_count": null,
   "metadata": {
    "colab": {
     "base_uri": "https://localhost:8080/",
     "height": 388
    },
    "colab_type": "code",
    "id": "y4wvcIVZikwJ",
    "outputId": "f31ebdf7-ba8e-4ee9-ea1e-e42c66fd87ae"
   },
   "outputs": [],
   "source": [
    "# outliers: uso horário\n",
    "fig, ax = plt.subplots()\n",
    "sns.boxplot(data=df, x=\"hour\", y=\"total_count\");"
   ]
  },
  {
   "cell_type": "code",
   "execution_count": null,
   "metadata": {
    "colab": {
     "base_uri": "https://localhost:8080/",
     "height": 596
    },
    "colab_type": "code",
    "id": "hapv45aUi1pR",
    "outputId": "dd8b1de3-5651-495c-de96-6f81ef49f68f"
   },
   "outputs": [],
   "source": [
    "# correlação\n",
    "plt.figure(figsize=(30,10))\n",
    "\n",
    "# extraindo matrix de correlação\n",
    "corr_mat = df[['temp', 'atemp', 'humidity', 'windspeed',\n",
    "              'casual', 'registered', 'total_count']].corr()\n",
    "\n",
    "# visualização dos elementos abaixo da diagonal principal\n",
    "mask = np.array(corr_mat)\n",
    "mask[np.tril_indices_from(mask)] = False\n",
    "\n",
    "# plot\n",
    "sns.heatmap(corr_mat, mask=mask, square=True, annot=True)\n",
    "plt.show()"
   ]
  },
  {
   "cell_type": "markdown",
   "metadata": {
    "colab_type": "text",
    "id": "gHE6SIJJl0wi"
   },
   "source": [
    "### **Modelo preditivo de locações**"
   ]
  },
  {
   "cell_type": "markdown",
   "metadata": {
    "colab_type": "text",
    "id": "D3PxrMcHmroJ"
   },
   "source": [
    "Nesta seção será feita uma **modelagem simplificada** do problema de previsão de demanda diária do uso de bicicletas."
   ]
  },
  {
   "cell_type": "markdown",
   "metadata": {
    "colab_type": "text",
    "id": "0gWsr69woQgQ"
   },
   "source": [
    "#### Pré-processamento"
   ]
  },
  {
   "cell_type": "code",
   "execution_count": null,
   "metadata": {
    "colab": {},
    "colab_type": "code",
    "id": "yDddopnejwxM"
   },
   "outputs": [],
   "source": [
    "# pré-processamento dos dados: remoção de colunas desnecessárias\n",
    "df.drop(['rec_id',\n",
    "         'casual',\n",
    "         'registered',\n",
    "         'atemp',\n",
    "         'year',\n",
    "         'hour'],\n",
    "        axis=1,\n",
    "        inplace=True)"
   ]
  },
  {
   "cell_type": "code",
   "execution_count": null,
   "metadata": {
    "colab": {
     "base_uri": "https://localhost:8080/",
     "height": 204
    },
    "colab_type": "code",
    "id": "_c1-lbJ6mWg5",
    "outputId": "890b189a-12a5-4417-a40c-c06000902e1f"
   },
   "outputs": [],
   "source": [
    "# visualização das primeiras linhas\n",
    "df.head()"
   ]
  },
  {
   "cell_type": "code",
   "execution_count": null,
   "metadata": {
    "colab": {},
    "colab_type": "code",
    "id": "FJAWVQIcovU1"
   },
   "outputs": [],
   "source": [
    "# agrupando pelo datetime\n",
    "df = df.groupby('datetime', as_index=False).mean()"
   ]
  },
  {
   "cell_type": "code",
   "execution_count": null,
   "metadata": {
    "colab": {
     "base_uri": "https://localhost:8080/",
     "height": 204
    },
    "colab_type": "code",
    "id": "O2rbbGJPrGCq",
    "outputId": "7541fe8e-511b-4ed8-8046-7bec641406c9"
   },
   "outputs": [],
   "source": [
    "# com os dados agrupados\n",
    "df.head()"
   ]
  },
  {
   "cell_type": "code",
   "execution_count": null,
   "metadata": {
    "colab": {
     "base_uri": "https://localhost:8080/",
     "height": 400
    },
    "colab_type": "code",
    "id": "kclN2_sI_a_p",
    "outputId": "a4cc6048-fce7-4e4a-e147-9b0026f4e95b"
   },
   "outputs": [],
   "source": [
    "# visualização dos dados agrupados\n",
    "df.plot(x='datetime', y='total_count');"
   ]
  },
  {
   "cell_type": "markdown",
   "metadata": {
    "colab_type": "text",
    "id": "R0Bs0UfP0FAL"
   },
   "source": [
    "Como se trata de um modelo temporal, iremos utilizar o registro de `total_count` do dia anterior como uma variável exógena do nosso modelo."
   ]
  },
  {
   "cell_type": "code",
   "execution_count": null,
   "metadata": {
    "colab": {},
    "colab_type": "code",
    "id": "iUR_oqhT0act"
   },
   "outputs": [],
   "source": [
    "# gerando a série defasada total_count: lag1\n",
    "df['total_count_lag1'] = np.r_[df.iloc[0, -1], df.iloc[:-1, -1]]"
   ]
  },
  {
   "cell_type": "code",
   "execution_count": null,
   "metadata": {
    "colab": {
     "base_uri": "https://localhost:8080/",
     "height": 359
    },
    "colab_type": "code",
    "id": "9ZrXBxh91i1H",
    "outputId": "eda45f96-075b-4eae-e127-dda6dfa1afe8"
   },
   "outputs": [],
   "source": [
    "# nova coluna\n",
    "df.head(10)"
   ]
  },
  {
   "cell_type": "code",
   "execution_count": null,
   "metadata": {
    "colab": {},
    "colab_type": "code",
    "id": "jiZDap7S2_19"
   },
   "outputs": [],
   "source": [
    "# ajustando os dtypes\n",
    "df['season'] = df['season'].astype('int')\n",
    "df['month'] = df['month'].astype('int')\n",
    "df['is_holiday'] = df['is_holiday'].astype('int')\n",
    "df['weekday'] = df['weekday'].astype('int')\n",
    "df['is_workingday'] = df['is_workingday'].astype('int')"
   ]
  },
  {
   "cell_type": "code",
   "execution_count": null,
   "metadata": {
    "colab": {},
    "colab_type": "code",
    "id": "BqHfDKcL2WkS"
   },
   "outputs": [],
   "source": [
    "# codificação das variáveis categóricas: one hot encoding\n",
    "df = pd.get_dummies(df, columns=['season', 'month', 'weekday'])"
   ]
  },
  {
   "cell_type": "code",
   "execution_count": null,
   "metadata": {
    "colab": {
     "base_uri": "https://localhost:8080/",
     "height": 309
    },
    "colab_type": "code",
    "id": "qE9pfAKA34lD",
    "outputId": "68567a48-0e1a-4c5f-e261-088d3d377f37"
   },
   "outputs": [],
   "source": [
    "df.head()"
   ]
  },
  {
   "cell_type": "code",
   "execution_count": null,
   "metadata": {
    "colab": {},
    "colab_type": "code",
    "id": "oC7xeGgNuAsJ"
   },
   "outputs": [],
   "source": [
    "# divisão em treino (90%) e teste (10%)\n",
    "n, p = df.shape[0], 0.9\n",
    "\n",
    "df_train = df.iloc[:int(n*p), 1:]\n",
    "dtime_train = df.iloc[:int(n*p), 0]\n",
    "\n",
    "df_test = df.iloc[int(n*p):, 1:]\n",
    "dtime_test = df.iloc[int(n*p):, 0]"
   ]
  },
  {
   "cell_type": "code",
   "execution_count": null,
   "metadata": {
    "colab": {
     "base_uri": "https://localhost:8080/",
     "height": 53
    },
    "colab_type": "code",
    "id": "_E0n27jR5ERV",
    "outputId": "b6e36757-17f1-4808-eeb9-f6f1f5e5a74f"
   },
   "outputs": [],
   "source": [
    "print(\"df_train shape:\", df_train.shape)\n",
    "print(\"df_test shape:\", df_test.shape)"
   ]
  },
  {
   "cell_type": "code",
   "execution_count": null,
   "metadata": {
    "colab": {},
    "colab_type": "code",
    "id": "XnjeO81v17BI"
   },
   "outputs": [],
   "source": [
    "# extração de x_train, x_test, y_train, y_test\n",
    "x_train = df_train.drop('total_count', axis=1)\n",
    "y_train = df_train['total_count']\n",
    "\n",
    "x_test = df_test.drop('total_count', axis=1)\n",
    "y_test = df_test['total_count']"
   ]
  },
  {
   "cell_type": "code",
   "execution_count": null,
   "metadata": {
    "colab": {},
    "colab_type": "code",
    "id": "Z6RCHdil4WxG"
   },
   "outputs": [],
   "source": [
    "# model\n",
    "from sklearn.ensemble import RandomForestRegressor"
   ]
  },
  {
   "cell_type": "code",
   "execution_count": null,
   "metadata": {
    "colab": {
     "base_uri": "https://localhost:8080/",
     "height": 143
    },
    "colab_type": "code",
    "id": "rFkj7ezX4f9D",
    "outputId": "88f67de6-344e-4572-a79f-c94f6e28f92b"
   },
   "outputs": [],
   "source": [
    "# fit model\n",
    "model = RandomForestRegressor(random_state=0)\n",
    "model.fit(x_train, y_train)"
   ]
  },
  {
   "cell_type": "code",
   "execution_count": null,
   "metadata": {
    "colab": {},
    "colab_type": "code",
    "id": "ELXheEqR5S1c"
   },
   "outputs": [],
   "source": [
    "# predição\n",
    "y_pred = model.predict(x_test)"
   ]
  },
  {
   "cell_type": "code",
   "execution_count": null,
   "metadata": {
    "colab": {},
    "colab_type": "code",
    "id": "AqqmANUvKLPf"
   },
   "outputs": [],
   "source": [
    "# intervalo de confiança\n",
    "n_steps = 3\n",
    "ts_pred = pd.DataFrame(y_pred)\n",
    "smooth_path    = ts_pred.rolling(n_steps).mean()\n",
    "path_deviation = 1.96 * ts_pred.rolling(n_steps).std()\n",
    "\n",
    "under_line = (smooth_path-path_deviation)[0]\n",
    "over_line  = (smooth_path+path_deviation)[0]"
   ]
  },
  {
   "cell_type": "code",
   "execution_count": null,
   "metadata": {
    "colab": {
     "base_uri": "https://localhost:8080/",
     "height": 390
    },
    "colab_type": "code",
    "id": "Qnp7kL-58mbC",
    "outputId": "3ee1be1a-5b91-448b-f296-f84603de5d29"
   },
   "outputs": [],
   "source": [
    "# visualização\n",
    "plt.plot(dtime_test, y_pred, linewidth=2, label='predição')\n",
    "plt.fill_between(dtime_test, under_line, over_line, color='b', alpha=.15)\n",
    "plt.plot(dtime_test, y_test, label='real')\n",
    "plt.xticks(dtime_test.iloc[np.arange(dtime_test.size, step= 10).astype(int)])\n",
    "plt.legend()\n",
    "plt.grid()\n",
    "plt.title(\"Predição do número de locações diárias de bicicletas\")\n",
    "plt.show()"
   ]
  },
  {
   "cell_type": "code",
   "execution_count": null,
   "metadata": {
    "colab": {
     "base_uri": "https://localhost:8080/",
     "height": 405
    },
    "colab_type": "code",
    "id": "rLoLPLjLFvyk",
    "outputId": "83be5923-caee-4b11-eb1f-273bda2f507d"
   },
   "outputs": [],
   "source": [
    "# importâncias das features\n",
    "fp = model.feature_importances_\n",
    "n = 5\n",
    "i = np.argsort(fp)[-n:]\n",
    "cols = x_train.columns\n",
    "plt.barh(cols[i], fp[i])\n",
    "plt.grid()\n",
    "plt.title(f\"{n} features mais importantes\")\n",
    "plt.xlabel(\"Importância relativa\")\n",
    "plt.ylabel(\"Feature\")\n",
    "plt.show()"
   ]
  },
  {
   "cell_type": "markdown",
   "metadata": {
    "colab_type": "text",
    "id": "juAUZ0lqQMp5"
   },
   "source": [
    "**Comentários**:\n",
    "\n",
    "É importante ressaltar que diversas etapas importantes na modelagem de um problema de forecasting (séries temporais) não foram levadas em consideração aqui. Para quem quiser se aprodundar no tema, segue algumas referências:\n",
    "\n",
    "- https://eng.uber.com/forecasting-introduction/\n",
    "- https://eng.uber.com/m4-forecasting-competition/\n",
    "- https://www.tensorflow.org/tutorials/structured_data/time_series\n",
    "- https://machinelearningmastery.com/time-series-forecasting-methods-in-python-cheat-sheet/\n",
    "\n",
    "**Referências:**\n",
    "- https://seaborn.pydata.org/\n",
    "- https://archive.ics.uci.edu/ml/datasets/bike+sharing+dataset"
   ]
  }
 ],
 "metadata": {
  "colab": {
   "collapsed_sections": [],
   "name": "[IGTI] Bootcamp - Aula Interativa 2.ipynb",
   "provenance": []
  },
  "kernelspec": {
   "display_name": "Python 3",
   "language": "python",
   "name": "python3"
  },
  "language_info": {
   "codemirror_mode": {
    "name": "ipython",
    "version": 3
   },
   "file_extension": ".py",
   "mimetype": "text/x-python",
   "name": "python",
   "nbconvert_exporter": "python",
   "pygments_lexer": "ipython3",
   "version": "3.8.5"
  }
 },
 "nbformat": 4,
 "nbformat_minor": 4
}
