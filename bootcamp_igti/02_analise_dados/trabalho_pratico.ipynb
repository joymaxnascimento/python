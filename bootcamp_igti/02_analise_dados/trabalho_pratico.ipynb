{
 "cells": [
  {
   "cell_type": "markdown",
   "metadata": {},
   "source": [
    "# Trabalho prático"
   ]
  },
  {
   "cell_type": "code",
   "execution_count": null,
   "metadata": {},
   "outputs": [],
   "source": [
    "# Bibliotecas\n",
    "import numpy as np\n",
    "import pandas as pd"
   ]
  },
  {
   "cell_type": "code",
   "execution_count": null,
   "metadata": {},
   "outputs": [],
   "source": [
    "# Código 01\n",
    "z = np.zeros((4, ))\n",
    "print('Z: ', z)"
   ]
  },
  {
   "cell_type": "code",
   "execution_count": null,
   "metadata": {},
   "outputs": [],
   "source": [
    "# Código 02\n",
    "z = np.zeros((4, ))\n",
    "z[1] = 1.\n",
    "print('Z: ', z)"
   ]
  },
  {
   "cell_type": "code",
   "execution_count": null,
   "metadata": {},
   "outputs": [],
   "source": [
    "# Código 03\n",
    "z = np.zeros((4, ))\n",
    "z[1:] = 1.\n",
    "print('Z: ', z)"
   ]
  },
  {
   "cell_type": "code",
   "execution_count": null,
   "metadata": {
    "scrolled": true
   },
   "outputs": [],
   "source": [
    "# Código 04\n",
    "z = np.zeros((4, ))\n",
    "z[0:-1] = 1.\n",
    "print('Z: ', z)"
   ]
  },
  {
   "cell_type": "code",
   "execution_count": null,
   "metadata": {},
   "outputs": [],
   "source": [
    "# Código 05\n",
    "x = np.ones((2,2))+1\n",
    "print('X:\\n', x)"
   ]
  },
  {
   "cell_type": "code",
   "execution_count": null,
   "metadata": {},
   "outputs": [],
   "source": [
    "# Código 06\n",
    "x = np.array([[1, 2], [3, 4]])\n",
    "y = x[0, :]\n",
    "y[1] = 10\n",
    "print('X:\\n', x)"
   ]
  },
  {
   "cell_type": "code",
   "execution_count": null,
   "metadata": {},
   "outputs": [],
   "source": [
    "# Código 07\n",
    "x = np.array([[1, 3], [11, 10]])\n",
    "print(np.mean(x[x > np.pi]))"
   ]
  },
  {
   "cell_type": "code",
   "execution_count": null,
   "metadata": {},
   "outputs": [],
   "source": [
    "# Código 08\n",
    "data = {'animal' : ['cat', 'cat', 'snake', 'dog', 'dog', 'cat', 'snake'\n",
    "                    , 'cat', 'dog', 'dog']\n",
    "       , 'age' : [2.5, 3, .5, np.nan, 5, 2, 4.5, np.nan, 7, 3]\n",
    "       , 'visits' : [1, 3, 2, 3, 2, 3, 11, 1, 2, 1]\n",
    "       , 'priority' : ['yes', 'yes', 'no', 'yes', 'no', 'no', 'no', 'yes'\n",
    "                    , 'no', 'no']}\n",
    "labels = ['a', 'b', 'c', 'd', 'e', 'f', 'g', 'h', 'i', 'j']"
   ]
  },
  {
   "cell_type": "code",
   "execution_count": null,
   "metadata": {},
   "outputs": [],
   "source": [
    "# Código 09\n",
    "df = pd.DataFrame(data = data, index = labels)"
   ]
  },
  {
   "cell_type": "code",
   "execution_count": null,
   "metadata": {},
   "outputs": [],
   "source": [
    "# Código 10\n",
    "y_true = np.array([1., 2., 1.])\n",
    "y_pred = np.array([1.1, 1.98, 1.05])\n",
    "np.sqrt(((y_true-y_pred)**2).mean())"
   ]
  }
 ],
 "metadata": {
  "kernelspec": {
   "display_name": "Python 3",
   "language": "python",
   "name": "python3"
  },
  "language_info": {
   "codemirror_mode": {
    "name": "ipython",
    "version": 3
   },
   "file_extension": ".py",
   "mimetype": "text/x-python",
   "name": "python",
   "nbconvert_exporter": "python",
   "pygments_lexer": "ipython3",
   "version": "3.8.3"
  }
 },
 "nbformat": 4,
 "nbformat_minor": 4
}
